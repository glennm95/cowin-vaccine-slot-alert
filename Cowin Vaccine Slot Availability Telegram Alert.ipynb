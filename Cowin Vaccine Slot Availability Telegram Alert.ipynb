{
 "cells": [
  {
   "cell_type": "code",
   "execution_count": null,
   "id": "fd935f2e",
   "metadata": {},
   "outputs": [],
   "source": [
    "import requests\n",
    "from datetime import datetime\n",
    "import hashlib\n",
    "import time"
   ]
  },
  {
   "cell_type": "code",
   "execution_count": null,
   "id": "d759208d",
   "metadata": {},
   "outputs": [],
   "source": [
    "cowin_base_url = 'https://cdn-api.co-vin.in/api/v2/appointment/sessions/public/calendarByPin'\n",
    "telegram_api_url = 'https://api.telegram.org/bot1794047380:AAGrpZN8ITFj_wU5DYgqpyhSkmmkHtRLlig/sendMessage?chat_id=-1001311953767&text='\n",
    "pin_codes = ['400068', '400092', '400103']\n"
   ]
  },
  {
   "cell_type": "code",
   "execution_count": null,
   "id": "32aec166",
   "metadata": {},
   "outputs": [],
   "source": [
    "def cowin_url_response(pincode):\n",
    "    cowin_url = cowin_base_url+'?pincode='+pincode+'&date='+datetime.now().strftime('%d-%m-%Y')\n",
    "    response = requests.get(cowin_url)\n",
    "    response_text = response.text.encode('utf 8')   #For hashing\n",
    "    response_json = response.json()   #For getting individual center deets\n",
    "    \n",
    "    hashed_response = hashlib.sha256(response_text).hexdigest()\n",
    "            \n",
    "    return (hashed_response, response_json)\n",
    "\n",
    "def send_telegram_message(message):\n",
    "    telegram_url = telegram_api_url + message\n",
    "    try: \n",
    "        response = requests.get(telegram_url)\n",
    "    except:\n",
    "        print('Telegram issue')    #added since Telegram would sometimes raise an error\n",
    "    print(response.text)\n",
    "    \n",
    "def center_loop(response_json):\n",
    "    for center in response_json['centers']:    #loop through each center\n",
    "        center_name = center['name']\n",
    "        pin = center['pincode']\n",
    "        cat = center['fee_type']\n",
    "        for session in center['sessions']:    #loop through each session in for a particular center\n",
    "            min_age_limit = session['min_age_limit']\n",
    "            available_1 = session['available_capacity_dose1'] \n",
    "            available_2 = session['available_capacity_dose2'] \n",
    "            vaccine_type = session['vaccine']\n",
    "            vax_date = session['date']\n",
    "            vax_date = datetime.strptime(vax_date,'%d-%m-%Y').strftime('%b %d, %Y')\n",
    "            if available_1 > 0 or available_2 > 0:    #only if doses are available\n",
    "                if min_age_limit == 18 and cat == 'Free' and vaccine_type == 'COVISHIELD':\n",
    "                    print(f'{available_1+available_2} {cat} {vaccine_type} vaccine(s) ({available_1} for FIRST DOSE | {available_2} for SECOND DOSE) for {vax_date} currently available for 18+ at {center_name} in zip code {pin}')\n",
    "                    send_telegram_message(f'{available_1+available_2} {cat} {vaccine_type} vaccine(s) ({available_1} for FIRST DOSE | {available_2} for SECOND DOSE) for {vax_date} currently available for 18-plus at {center_name} in zip code {pin}')\n",
    "#                 elif min_age_limit == 30:\n",
    "#                     print(f'{available_1+available_2} {cat} {vaccine_type} vaccine(s) ({available_1} for FIRST DOSE | {available_2} for SECOND DOSE) for {vax_date} currently available for 30+ at {center_name} in zip code {pin}')\n",
    "#                     send_telegram_message(f'{available_1+available_2} {cat} {vaccine_type} vaccine(s) ({available_1} for FIRST DOSE | {available_2} for SECOND DOSE) for {vax_date} currently available for 30-plus at {center_name} in zip code {pin}')\n",
    "#                 elif min_age_limit == 45:\n",
    "#                     print(f'{available_1+available_2} {cat} {vaccine_type} vaccine(s) ({available_1} for FIRST DOSE | {available_2} for SECOND DOSE) for {vax_date} currently available for 45+ at {center_name} in zip code {pin}')\n",
    "#                     send_telegram_message(f'{available_1+available_2} {cat} {vaccine_type} vaccine(s) ({available_1} for FIRST DOSE | {available_2} for SECOND DOSE) for {vax_date} currently available for 45-plus at {center_name} in zip code {pin}')\n",
    "                else:\n",
    "                    continue"
   ]
  },
  {
   "cell_type": "code",
   "execution_count": null,
   "id": "002c2788",
   "metadata": {},
   "outputs": [],
   "source": [
    "old_state = []    #list of previous(initial) state(json response of requests.get for each pin code) for all 3 pincodes\n",
    "\n",
    "#Initial availability list\n",
    "for pin in pin_codes:    #perform task for each pincode provided in pin_codes list\n",
    "    old_state.append(cowin_url_response(pin))\n",
    "        \n",
    "for state in old_state:\n",
    "    center_loop(state[1])\n",
    "\n",
    "#Consecutive availability list after every 10secs\n",
    "while True:\n",
    "    time.sleep(10)\n",
    "#   (t_i=3*n_r | t_i: minimum time interval b/w requests | n_r: no. of requests after every t_i)\n",
    "#   since limit is 100 requests every 5mins(300secs)\n",
    "\n",
    "    new_state = []    #list of new state after 10s (json response of requests.get for each pin code) for all 3 pincodes\n",
    "    for pin in pin_codes:\n",
    "        new_state.append(cowin_url_response(pin))\n",
    "    \n",
    "    for i in range(len(pin_codes)):\n",
    "        if old_state[i][0] != new_state[i][0]:    #compare the hash of responses for old and new state for each individual pincode\n",
    "            center_loop(new_state[i][1])\n",
    "    \n",
    "    old_state = new_state\n",
    "    \n",
    "    continue                \n",
    "    "
   ]
  },
  {
   "cell_type": "code",
   "execution_count": null,
   "id": "30083c72",
   "metadata": {},
   "outputs": [],
   "source": []
  },
  {
   "cell_type": "code",
   "execution_count": null,
   "id": "da09a569",
   "metadata": {},
   "outputs": [],
   "source": [
    "#url for api call to cowin website - pincode wise\n",
    "# https://cdn-api.co-vin.in/api/v2/appointment/sessions/public/calendarByPin?pincode=400001&date=21-06-2021"
   ]
  },
  {
   "cell_type": "code",
   "execution_count": null,
   "id": "a8c39b65",
   "metadata": {},
   "outputs": [],
   "source": [
    "# url for test group on telegram with chat id @cowin68\n",
    "# telegram_api_url = 'https://api.telegram.org/bot1881845500:AAHmKDdldowa0Ns7v2wdxhQ4HqBa5hr82tc/sendMessage?chat_id=@cowin68&text='"
   ]
  }
 ],
 "metadata": {
  "kernelspec": {
   "display_name": "Python 3",
   "language": "python",
   "name": "python3"
  },
  "language_info": {
   "codemirror_mode": {
    "name": "ipython",
    "version": 3
   },
   "file_extension": ".py",
   "mimetype": "text/x-python",
   "name": "python",
   "nbconvert_exporter": "python",
   "pygments_lexer": "ipython3",
   "version": "3.8.8"
  }
 },
 "nbformat": 4,
 "nbformat_minor": 5
}
