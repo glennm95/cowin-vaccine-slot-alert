{
 "cells": [
  {
   "cell_type": "code",
   "execution_count": 1,
   "id": "fd935f2e",
   "metadata": {},
   "outputs": [],
   "source": [
    "import requests\n",
    "from datetime import datetime\n",
    "import hashlib\n",
    "import time"
   ]
  },
  {
   "cell_type": "code",
   "execution_count": 2,
   "id": "d759208d",
   "metadata": {},
   "outputs": [],
   "source": [
    "base_url = 'https://cdn-api.co-vin.in/api/v2/appointment/sessions/public/calendarByPin'\n",
    "telegram_api_url = 'https://api.telegram.org/bot1794047380:AAGrpZN8ITFj_wU5DYgqpyhSkmmkHtRLlig/sendMessage?chat_id=-1001311953767&text='\n",
    "pin_codes = ['400068', '400092', '400103']\n"
   ]
  },
  {
   "cell_type": "code",
   "execution_count": 3,
   "id": "32aec166",
   "metadata": {},
   "outputs": [],
   "source": [
    "def cowin_url_response(pincode):\n",
    "    url = base_url+'?pincode='+pincode+'&date='+datetime.now().strftime('%d-%m-%Y')\n",
    "    response = requests.get(url)\n",
    "    response_text = response.text.encode('utf 8')   #For hashing\n",
    "    response_json = response.json()   #For getting individual center deets\n",
    "#     for center in response_json[\"centers\"]:\n",
    "# #         print('\\n',center['center_id'], center['name'], ' ')\n",
    "#         center_name = center['name']\n",
    "#         for session in center['sessions']:\n",
    "# #             print(session['available_capacity_dose1'], session['min_age_limit'])\n",
    "#             min_age_limit = session['min_age_limit']\n",
    "#             available = session['available_capacity_dose1'] \n",
    "    hashed_response = hashlib.sha256(response_text).hexdigest()\n",
    "            \n",
    "    return (hashed_response, response_json)\n",
    "\n",
    "def send_telegram_message(message):\n",
    "    telegram_url = telegram_api_url + message\n",
    "    try: \n",
    "        response = requests.get(telegram_url)\n",
    "    except:\n",
    "        print('Telegram issue')\n",
    "    print(response.text)\n",
    "    \n",
    "def center_loop(response_json):\n",
    "#     session_hash\n",
    "    for center in response_json['centers']:\n",
    "        center_name = center['name']\n",
    "        pin = center['pincode']\n",
    "        cat = center['fee_type']\n",
    "        for session in center['sessions']:\n",
    "            min_age_limit = session['min_age_limit']\n",
    "            available_1 = session['available_capacity_dose1'] \n",
    "            available_2 = session['available_capacity_dose2'] \n",
    "            vaccine_type = session['vaccine']\n",
    "            vax_date = session['date']\n",
    "            vax_date = datetime.strptime(vax_date,'%d-%m-%Y').strftime('%b %d, %Y')\n",
    "            if available_1 > 0 or available_2 > 0:\n",
    "                if min_age_limit == 18:\n",
    "                    print(f'{available_1+available_2} {cat} {vaccine_type} vaccine(s) ({available_1} for FIRST DOSE | {available_2} for SECOND DOSE) for {vax_date} currently available for 18+ at {center_name} in zip code {pin}')\n",
    "                    send_telegram_message(f'{available_1+available_2} {cat} {vaccine_type} vaccine(s) ({available_1} for FIRST DOSE | {available_2} for SECOND DOSE) for {vax_date} currently available for 18-plus at {center_name} in zip code {pin}')\n",
    "    #                 break\n",
    "                elif min_age_limit == 30:\n",
    "                    print(f'{available_1+available_2} {cat} {vaccine_type} vaccine(s) ({available_1} for FIRST DOSE | {available_2} for SECOND DOSE) for {vax_date} currently available for 30+ at {center_name} in zip code {pin}')\n",
    "                    send_telegram_message(f'{available_1+available_2} {cat} {vaccine_type} vaccine(s) ({available_1} for FIRST DOSE | {available_2} for SECOND DOSE) for {vax_date} currently available for 30-plus at {center_name} in zip code {pin}')\n",
    "    #                 break\n",
    "                elif min_age_limit == 45:\n",
    "                    print(f'{available_1+available_2} {cat} {vaccine_type} vaccine(s) ({available_1} for FIRST DOSE | {available_2} for SECOND DOSE) for {vax_date} currently available for 45+ at {center_name} in zip code {pin}')\n",
    "                    send_telegram_message(f'{available_1+available_2} {cat} {vaccine_type} vaccine(s) ({available_1} for FIRST DOSE | {available_2} for SECOND DOSE) for {vax_date} currently available for 45-plus at {center_name} in zip code {pin}')\n",
    "    #                 break\n",
    "                else:\n",
    "                    continue"
   ]
  },
  {
   "cell_type": "code",
   "execution_count": 4,
   "id": "002c2788",
   "metadata": {},
   "outputs": [
    {
     "ename": "KeyboardInterrupt",
     "evalue": "",
     "output_type": "error",
     "traceback": [
      "\u001b[1;31m---------------------------------------------------------------------------\u001b[0m",
      "\u001b[1;31mKeyboardInterrupt\u001b[0m                         Traceback (most recent call last)",
      "\u001b[1;32m<ipython-input-4-cb0ef384217a>\u001b[0m in \u001b[0;36m<module>\u001b[1;34m\u001b[0m\n\u001b[0;32m     13\u001b[0m \u001b[1;33m\u001b[0m\u001b[0m\n\u001b[0;32m     14\u001b[0m \u001b[1;32mwhile\u001b[0m \u001b[1;32mTrue\u001b[0m\u001b[1;33m:\u001b[0m\u001b[1;33m\u001b[0m\u001b[1;33m\u001b[0m\u001b[0m\n\u001b[1;32m---> 15\u001b[1;33m     \u001b[0mtime\u001b[0m\u001b[1;33m.\u001b[0m\u001b[0msleep\u001b[0m\u001b[1;33m(\u001b[0m\u001b[1;36m10\u001b[0m\u001b[1;33m)\u001b[0m\u001b[1;33m\u001b[0m\u001b[1;33m\u001b[0m\u001b[0m\n\u001b[0m\u001b[0;32m     16\u001b[0m \u001b[1;31m#     (t_i=3*n_r | t_i: minimum time interval b/w requests | n_r: no. of requests after every t_i)\u001b[0m\u001b[1;33m\u001b[0m\u001b[1;33m\u001b[0m\u001b[1;33m\u001b[0m\u001b[0m\n\u001b[0;32m     17\u001b[0m \u001b[1;31m#     new_state = cowin_url_response('400092')\u001b[0m\u001b[1;33m\u001b[0m\u001b[1;33m\u001b[0m\u001b[1;33m\u001b[0m\u001b[0m\n",
      "\u001b[1;31mKeyboardInterrupt\u001b[0m: "
     ]
    }
   ],
   "source": [
    "old_state = []    #list of previous(initial) state for all 3 pincodes\n",
    "new_state = []    #list of new state for all 3 pincodes\n",
    "\n",
    "for pin in pin_codes:\n",
    "    old_state.append(cowin_url_response(pin))\n",
    "    \n",
    "for state in old_state:\n",
    "    center_loop(state[1])\n",
    "\n",
    "# old_state = cowin_url_response('400092')\n",
    "# center_loop(old_state[1])\n",
    "\n",
    "\n",
    "while True:\n",
    "    time.sleep(10)\n",
    "#     (t_i=3*n_r | t_i: minimum time interval b/w requests | n_r: no. of requests after every t_i)\n",
    "#     since limit is 100 requests every 5mins(300secs)\n",
    "#     new_state = cowin_url_response('400092')\n",
    "    new_state = []    #doesn't this erase old_state list as well? -> nope\n",
    "    for pin in pin_codes:\n",
    "        new_state.append(cowin_url_response(pin))\n",
    "    \n",
    "    for i in range(len(pin_codes)):\n",
    "        if old_state[i][0] != new_state[i][0]:\n",
    "            center_loop(new_state[i][1])\n",
    "#  ###########\n",
    "#     if old_state[0] != new_state[0]:\n",
    "#         center_loop(new_state[1])              \n",
    "####\n",
    "#     else:\n",
    "#         print(new_state[0])\n",
    "    \n",
    "    old_state = new_state\n",
    "    \n",
    "    continue                \n",
    "    "
   ]
  },
  {
   "cell_type": "code",
   "execution_count": null,
   "id": "a356e093",
   "metadata": {},
   "outputs": [],
   "source": [
    "# old_state_1 = cowin_url_response('400068')\n",
    "# old_state_2 = cowin_url_response('400092')\n",
    "# old_state_3 = cowin_url_response('400103')\n",
    "\n",
    "# while True:   \n",
    "#     time.sleep(10)\n",
    "# \n",
    "# #     since limit is 100 requests every 5mins(300secs)\n",
    "#     new_state_1 = cowin_url_response('400068')\n",
    "#     new_state_2 = cowin_url_response('400092')\n",
    "#     new_state_3 = cowin_url_response('400103')\n",
    "    \n",
    "#     if new_state_1[0] != old_state_1[0]:\n",
    "#         if int(new_state_1[2])==18 and int(new_state_1[3])>0:\n",
    "#             print('Vaccine available in 400068')\n",
    "#             send_telegram_message('Vaccine available in 400068')\n",
    "#     elif new_state_2[0] != old_state_2[0]:\n",
    "#         if int(new_state_2[2])==18 and int(new_state_2[3])>0:\n",
    "#             print('Vaccine available in 400092')\n",
    "#             send_telegram_message('Vaccine available in 400092')\n",
    "#     elif new_state_3[0] != old_state_3[0]:\n",
    "#         if int(new_state_3[2])==18 and int(new_state_3[3])>0:\n",
    "#             print('Vaccine available in 400103')\n",
    "#             send_telegram_message('Vaccine available in 400103')  \n",
    "#     else:\n",
    "#         print(new_state_1, '\\n', new_state_2, '\\n', new_state_3)\n",
    "    \n",
    "#     old_state_1 = new_state_1\n",
    "#     old_state_2 = new_state_2\n",
    "#     old_state_3 = new_state_3    \n",
    "    \n",
    "#     continue\n",
    "    \n",
    "    \n",
    "    "
   ]
  },
  {
   "cell_type": "code",
   "execution_count": null,
   "id": "30083c72",
   "metadata": {},
   "outputs": [],
   "source": []
  },
  {
   "cell_type": "code",
   "execution_count": null,
   "id": "da09a569",
   "metadata": {},
   "outputs": [],
   "source": [
    "# https://cdn-api.co-vin.in/api/v2/appointment/sessions/public/calendarByPin?pincode=400001&date=21-06-2021"
   ]
  },
  {
   "cell_type": "code",
   "execution_count": null,
   "id": "a8c39b65",
   "metadata": {},
   "outputs": [],
   "source": []
  }
 ],
 "metadata": {
  "kernelspec": {
   "display_name": "Python 3",
   "language": "python",
   "name": "python3"
  },
  "language_info": {
   "codemirror_mode": {
    "name": "ipython",
    "version": 3
   },
   "file_extension": ".py",
   "mimetype": "text/x-python",
   "name": "python",
   "nbconvert_exporter": "python",
   "pygments_lexer": "ipython3",
   "version": "3.8.8"
  }
 },
 "nbformat": 4,
 "nbformat_minor": 5
}
